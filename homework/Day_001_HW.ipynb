{
 "cells": [
  {
   "cell_type": "markdown",
   "metadata": {},
   "source": [
    " # 作業一："
   ]
  },
  {
   "cell_type": "code",
   "execution_count": 1,
   "metadata": {},
   "outputs": [],
   "source": [
    "import numpy as np\n",
    "import matplotlib.pyplot as plt"
   ]
  },
  {
   "cell_type": "code",
   "execution_count": 2,
   "metadata": {
    "scrolled": true
   },
   "outputs": [
    {
     "data": {
      "image/png": "[encoded data removed]",
      "text/plain": [
       "<Figure size 432x288 with 1 Axes>"
      ]
     },
     "metadata": {
      "needs_background": "light"
     },
     "output_type": "display_data"
    }
   ],
   "source": [
    "w = 3\n",
    "b = 0.5\n",
    "\n",
    "x_lin = np.linspace(0, 100, 101)\n",
    "y = (x_lin + np.random.randn(101) * 5) * w + b\n",
    "\n",
    "plt.plot(x_lin, y, 'b.', label = 'data points')\n",
    "plt.title(\"Assume we have data points\")\n",
    "plt.legend(loc = 2)\n",
    "plt.show()"
   ]
  },
  {
   "cell_type": "code",
   "execution_count": 3,
   "metadata": {},
   "outputs": [
    {
     "data": {
      "image/png": "[encoded data removed]",
      "text/plain": [
       "<Figure size 432x288 with 1 Axes>"
      ]
     },
     "metadata": {
      "needs_background": "light"
     },
     "output_type": "display_data"
    }
   ],
   "source": [
    "y_hat = x_lin * w + b\n",
    "plt.plot(x_lin, y, 'b.', label = 'data')\n",
    "plt.plot(x_lin, y_hat, 'r-', label = 'prediction')\n",
    "plt.title(\"Assume we have data points (And the prediction)\")\n",
    "plt.legend(loc = 2)\n",
    "plt.show()"
   ]
  },
  {
   "cell_type": "code",
   "execution_count": 4,
   "metadata": {},
   "outputs": [
    {
     "name": "stdout",
     "output_type": "stream",
     "text": [
      "The mean absolute error is 10.299\n"
     ]
    }
   ],
   "source": [
    "def mean_absolute_error(y, yp):\n",
    "    mae = sum(abs(y - yp)) / len(y)\n",
    "    return mae\n",
    "\n",
    "MAE = mean_absolute_error(y, y_hat)\n",
    "print(\"The mean absolute error is %.3f\" % (MAE))"
   ]
  },
  {
   "cell_type": "markdown",
   "metadata": {},
   "source": [
    "$ MSE = \\frac{1}{n}\\sum_{i=1}^{n}{(Y_i - \\hat{Y}_i)^2} $"
   ]
  },
  {
   "cell_type": "code",
   "execution_count": 5,
   "metadata": {},
   "outputs": [
    {
     "name": "stdout",
     "output_type": "stream",
     "text": [
      "The mean square error is 176 \n"
     ]
    }
   ],
   "source": [
    "def mean_square_error(y, yp):\n",
    "    mse = sum((y - yp) ** 2) / len(y)\n",
    "    return mse\n",
    "\n",
    "MSE = mean_square_error(y, y_hat)\n",
    "print(\"The mean square error is %.3d \" % MSE)"
   ]
  },
  {
   "cell_type": "markdown",
   "metadata": {},
   "source": [
    "# 作業二："
   ]
  },
  {
   "cell_type": "markdown",
   "metadata": {},
   "source": [
    "請上 Kaggle, 在 Competitions 或 Dataset 中找一組競賽或資料並寫下：\n",
    "\n",
    "Crimes in Boston\n",
    "\n",
    "1. 你選的這組資料為何重要\n",
    "    \n",
    "    能保障市民權益與安全。\n",
    "    \n",
    "\n",
    "2. 資料從何而來 (tips: 譬如提供者是誰、以什麼方式蒐集)\n",
    "\n",
    "    由Analyze Boston所提供，從波士頓提供的犯罪事件蒐集資料。\n",
    "    \n",
    "\n",
    "3. 蒐集而來的資料型態為何\n",
    "\n",
    "    採用cvs檔，資料型態含有文字與日期相關資訊。\n",
    "    \n",
    "\n",
    "4. 這組資料想解決的問題如何評估\n",
    "\n",
    "    這裡它提出了三個問題。第一種，哪種犯罪最常見，第二種，哪個地方容易發生不同的犯罪，第三種，發生犯罪頻率的變化是天還是禮拜還是年。\n",
    "\n",
    "    第一種可以計算每一種方式(OFFENSE_CODE)並用直方圖表示。\n",
    "    第二種可以計算每一區發生犯罪類型(OFFENSE_CODE、DISTRICT)並用直方圖表示。\n",
    "    第三種可以計算日、禮拜、年或月等等為單位的比較圖(YEAR、MONTH、DAY_OF_WEEK、HOUR等等)每個並用直方圖表示。\n",
    "\n",
    "    然而要先處理資料把資料補齊或移除，而上述的問題可以用簡單的統計得知，但若要解決的問題改變，考量的點可能變多，而變多就必須花更多時間分析，然而若使用機器學習方法或線性轉換等等，就能讓需要分析的步驟變少，而依照問題不同所用的模型也會不同。"
   ]
  },
  {
   "cell_type": "markdown",
   "metadata": {},
   "source": [
    " # 作業三："
   ]
  },
  {
   "cell_type": "markdown",
   "metadata": {},
   "source": [
    "想像你經營一個自由載客車隊，你希望能透過數據分析以提升業績，請你思考並描述你如何規劃整體的分析/解決方案：\n",
    "\n",
    "1. 核心問題為何 (tips：如何定義 「提升業績 & 你的假設」)\n",
    "    \n",
    "    提升業績定義：已月計算的出車次數、時間花費、利潤。\n",
    "    \n",
    "    你的假設：假設這個月小明出車次數為1，時間花費為10分鐘，利潤為100元。\n",
    "    \n",
    "    ## 業績下降\n",
    "    * 下個月出車次數為2，時間花費為10分鐘，利潤為100元。\n",
    "    * 下個月出車次數為1，時間花費為20分鐘，利潤為100元。\n",
    "    * 下個月出車次數為2，時間花費為20分鐘，利潤為100元。\n",
    "    \n",
    "   ## 無提升\n",
    "    * 下個月出車次數為2，時間花費為20分鐘，利潤為200元。\n",
    "    \n",
    "   ## 有提升\n",
    "   * 下個月出車次數為1，時間花費為5分鐘，利潤為100元。\n",
    "   * 下個月出車次數為2，時間花費為10分鐘，利潤為200元。\n",
    "   * 下個月出車次數為2，時間花費為20分鐘，利潤為300元。\n",
    "\n",
    "\n",
    "2. 資料從何而來 (tips：哪些資料可能會對你想問的問題產生影響 & 資料如何蒐集)\n",
    "\n",
    "    哪些資料可能會對你想問的問題產生影響:價格、花費時間、成本(車子損耗與油錢)、服務態度、地區、時段等等。\n",
    "    \n",
    "    資料如何蒐集:首先網站收集其他車隊的價格，並暫時制定一個價錢，再經由車隊收集花費時間、成本、地區和時段，而最一開始只能將車隊部屬於人較多或需用車的地方，例如車站、喝酒處等等。等資料收集夠即可預測哪一區需要較多的車隊，能降成本。而還能製作網站或APP使用叫車服務，也能幫助快速收集資料。\n",
    "\n",
    "\n",
    "3. 蒐集而來的資料型態為何\n",
    "\n",
    "    回傳資料基本上為文字，若使用APP或網站方式，能使用json檔存入資料庫或cvs等等。\n",
    "\n",
    "\n",
    "4. 你要回答的問題，其如何評估 (tips：你的假設如何驗證)\n",
    "    驗證部分較為簡易，若依照車隊則計算出利潤與花費時間和出車次數進行計算與上個月比對，而這部份能使用簡易公視完成，利潤除時間除數量，如下。$$ f(x) = x_{profit} \\div x_{time} \\div x_{count} $$\n",
    "    而最主要部分為預測每一區每個時段所需要的車量，而這裡能使用統計來去分析，也能使用分群方法等等去分析，而我認為最艱難的是，將客人載到位後，如何將她安排在下一個等待位置，將成本降低，雖然這部分能使用序列分析，但實際上還是得花時間去驗證是否可行。"
   ]
  },
  {
   "cell_type": "code",
   "execution_count": null,
   "metadata": {},
   "outputs": [],
   "source": []
  },
  {
   "cell_type": "code",
   "execution_count": null,
   "metadata": {},
   "outputs": [],
   "source": []
  }
 ],
 "metadata": {
  "kernelspec": {
   "display_name": "Python 3",
   "language": "python",
   "name": "python3"
  },
  "language_info": {
   "codemirror_mode": {
    "name": "ipython",
    "version": 3
   },
   "file_extension": ".py",
   "mimetype": "text/x-python",
   "name": "python",
   "nbconvert_exporter": "python",
   "pygments_lexer": "ipython3",
   "version": "3.7.3"
  }
 },
 "nbformat": 4,
 "nbformat_minor": 2
}
