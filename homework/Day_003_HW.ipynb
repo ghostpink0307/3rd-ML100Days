{
 "cells": [
  {
   "cell_type": "markdown",
   "metadata": {},
   "source": [
    "請至以下機器學習巨頭的 blog 參觀，試著閱讀一篇文章並分析其 \n",
    "\n",
    "Predicting Bus Delays with Machine Learning(https://ai.googleblog.com/search?updated-max=2019-07-12T10:21:00-07:00&max-results=10)\n",
    "\n",
    "作業 1：目標\n",
    "\n",
    "預測公車遲到時間(公車到達時間點)。\n",
    "\n",
    "作業 2：方法\n",
    "\n",
    "使用序列分析，將車流量、時間、街道等等下去做預測。\n",
    "\n",
    "作業 3：資料來源 \n",
    "\n",
    "官方相關單位提供的巴士時刻表，主要使用車流量、遲到時間、原始到達時間、時間、街道等等。"
   ]
  },
  {
   "cell_type": "code",
   "execution_count": null,
   "metadata": {},
   "outputs": [],
   "source": []
  }
 ],
 "metadata": {
  "kernelspec": {
   "display_name": "Python 3",
   "language": "python",
   "name": "python3"
  },
  "language_info": {
   "codemirror_mode": {
    "name": "ipython",
    "version": 3
   },
   "file_extension": ".py",
   "mimetype": "text/x-python",
   "name": "python",
   "nbconvert_exporter": "python",
   "pygments_lexer": "ipython3",
   "version": "3.7.3"
  }
 },
 "nbformat": 4,
 "nbformat_minor": 2
}
