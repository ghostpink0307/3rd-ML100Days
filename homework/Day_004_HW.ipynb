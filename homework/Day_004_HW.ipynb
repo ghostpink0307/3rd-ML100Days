{
 "cells": [
  {
   "cell_type": "code",
   "execution_count": 1,
   "metadata": {},
   "outputs": [],
   "source": [
    "import os\n",
    "import numpy as np\n",
    "import pandas as pd"
   ]
  },
  {
   "cell_type": "code",
   "execution_count": 2,
   "metadata": {},
   "outputs": [],
   "source": [
    "dir_data = './data/'"
   ]
  },
  {
   "cell_type": "code",
   "execution_count": 3,
   "metadata": {},
   "outputs": [
    {
     "name": "stdout",
     "output_type": "stream",
     "text": [
      "Path of read in data ./data/application_train.csv\n"
     ]
    }
   ],
   "source": [
    "f_app = os.path.join(dir_data, 'application_train.csv')\n",
    "print('Path of read in data %s' % (f_app))\n",
    "app_train = pd.read_csv(f_app)"
   ]
  },
  {
   "cell_type": "markdown",
   "metadata": {},
   "source": [
    "# 資料的 row 數以及 column 數"
   ]
  },
  {
   "cell_type": "code",
   "execution_count": 16,
   "metadata": {},
   "outputs": [
    {
     "name": "stdout",
     "output_type": "stream",
     "text": [
      "row size: 307511 , column size: 122\n"
     ]
    }
   ],
   "source": [
    "print('row size:',app_train.shape[0], ', column size:', app_train.shape[1])"
   ]
  },
  {
   "cell_type": "markdown",
   "metadata": {},
   "source": [
    "# 列出所有欄位"
   ]
  },
  {
   "cell_type": "code",
   "execution_count": 19,
   "metadata": {},
   "outputs": [
    {
     "name": "stdout",
     "output_type": "stream",
     "text": [
      "['SK_ID_CURR', 'TARGET', 'NAME_CONTRACT_TYPE', 'CODE_GENDER', 'FLAG_OWN_CAR', 'FLAG_OWN_REALTY', 'CNT_CHILDREN', 'AMT_INCOME_TOTAL', 'AMT_CREDIT', 'AMT_ANNUITY', 'AMT_GOODS_PRICE', 'NAME_TYPE_SUITE', 'NAME_INCOME_TYPE', 'NAME_EDUCATION_TYPE', 'NAME_FAMILY_STATUS', 'NAME_HOUSING_TYPE', 'REGION_POPULATION_RELATIVE', 'DAYS_BIRTH', 'DAYS_EMPLOYED', 'DAYS_REGISTRATION', 'DAYS_ID_PUBLISH', 'OWN_CAR_AGE', 'FLAG_MOBIL', 'FLAG_EMP_PHONE', 'FLAG_WORK_PHONE', 'FLAG_CONT_MOBILE', 'FLAG_PHONE', 'FLAG_EMAIL', 'OCCUPATION_TYPE', 'CNT_FAM_MEMBERS', 'REGION_RATING_CLIENT', 'REGION_RATING_CLIENT_W_CITY', 'WEEKDAY_APPR_PROCESS_START', 'HOUR_APPR_PROCESS_START', 'REG_REGION_NOT_LIVE_REGION', 'REG_REGION_NOT_WORK_REGION', 'LIVE_REGION_NOT_WORK_REGION', 'REG_CITY_NOT_LIVE_CITY', 'REG_CITY_NOT_WORK_CITY', 'LIVE_CITY_NOT_WORK_CITY', 'ORGANIZATION_TYPE', 'EXT_SOURCE_1', 'EXT_SOURCE_2', 'EXT_SOURCE_3', 'APARTMENTS_AVG', 'BASEMENTAREA_AVG', 'YEARS_BEGINEXPLUATATION_AVG', 'YEARS_BUILD_AVG', 'COMMONAREA_AVG', 'ELEVATORS_AVG', 'ENTRANCES_AVG', 'FLOORSMAX_AVG', 'FLOORSMIN_AVG', 'LANDAREA_AVG', 'LIVINGAPARTMENTS_AVG', 'LIVINGAREA_AVG', 'NONLIVINGAPARTMENTS_AVG', 'NONLIVINGAREA_AVG', 'APARTMENTS_MODE', 'BASEMENTAREA_MODE', 'YEARS_BEGINEXPLUATATION_MODE', 'YEARS_BUILD_MODE', 'COMMONAREA_MODE', 'ELEVATORS_MODE', 'ENTRANCES_MODE', 'FLOORSMAX_MODE', 'FLOORSMIN_MODE', 'LANDAREA_MODE', 'LIVINGAPARTMENTS_MODE', 'LIVINGAREA_MODE', 'NONLIVINGAPARTMENTS_MODE', 'NONLIVINGAREA_MODE', 'APARTMENTS_MEDI', 'BASEMENTAREA_MEDI', 'YEARS_BEGINEXPLUATATION_MEDI', 'YEARS_BUILD_MEDI', 'COMMONAREA_MEDI', 'ELEVATORS_MEDI', 'ENTRANCES_MEDI', 'FLOORSMAX_MEDI', 'FLOORSMIN_MEDI', 'LANDAREA_MEDI', 'LIVINGAPARTMENTS_MEDI', 'LIVINGAREA_MEDI', 'NONLIVINGAPARTMENTS_MEDI', 'NONLIVINGAREA_MEDI', 'FONDKAPREMONT_MODE', 'HOUSETYPE_MODE', 'TOTALAREA_MODE', 'WALLSMATERIAL_MODE', 'EMERGENCYSTATE_MODE', 'OBS_30_CNT_SOCIAL_CIRCLE', 'DEF_30_CNT_SOCIAL_CIRCLE', 'OBS_60_CNT_SOCIAL_CIRCLE', 'DEF_60_CNT_SOCIAL_CIRCLE', 'DAYS_LAST_PHONE_CHANGE', 'FLAG_DOCUMENT_2', 'FLAG_DOCUMENT_3', 'FLAG_DOCUMENT_4', 'FLAG_DOCUMENT_5', 'FLAG_DOCUMENT_6', 'FLAG_DOCUMENT_7', 'FLAG_DOCUMENT_8', 'FLAG_DOCUMENT_9', 'FLAG_DOCUMENT_10', 'FLAG_DOCUMENT_11', 'FLAG_DOCUMENT_12', 'FLAG_DOCUMENT_13', 'FLAG_DOCUMENT_14', 'FLAG_DOCUMENT_15', 'FLAG_DOCUMENT_16', 'FLAG_DOCUMENT_17', 'FLAG_DOCUMENT_18', 'FLAG_DOCUMENT_19', 'FLAG_DOCUMENT_20', 'FLAG_DOCUMENT_21', 'AMT_REQ_CREDIT_BUREAU_HOUR', 'AMT_REQ_CREDIT_BUREAU_DAY', 'AMT_REQ_CREDIT_BUREAU_WEEK', 'AMT_REQ_CREDIT_BUREAU_MON', 'AMT_REQ_CREDIT_BUREAU_QRT', 'AMT_REQ_CREDIT_BUREAU_YEAR']\n"
     ]
    }
   ],
   "source": [
    "print(app_train.columns.values.tolist())"
   ]
  },
  {
   "cell_type": "markdown",
   "metadata": {},
   "source": [
    "# 截取部分資料"
   ]
  },
  {
   "cell_type": "code",
   "execution_count": 21,
   "metadata": {},
   "outputs": [
    {
     "name": "stdout",
     "output_type": "stream",
     "text": [
      "   SK_ID_CURR  TARGET NAME_CONTRACT_TYPE CODE_GENDER FLAG_OWN_CAR  \\\n",
      "0      100002       1         Cash loans           M            N   \n",
      "\n",
      "  FLAG_OWN_REALTY  CNT_CHILDREN  AMT_INCOME_TOTAL  AMT_CREDIT  AMT_ANNUITY  \\\n",
      "0               Y             0          202500.0    406597.5      24700.5   \n",
      "\n",
      "   ...  FLAG_DOCUMENT_18 FLAG_DOCUMENT_19 FLAG_DOCUMENT_20 FLAG_DOCUMENT_21  \\\n",
      "0  ...                 0                0                0                0   \n",
      "\n",
      "  AMT_REQ_CREDIT_BUREAU_HOUR AMT_REQ_CREDIT_BUREAU_DAY  \\\n",
      "0                        0.0                       0.0   \n",
      "\n",
      "   AMT_REQ_CREDIT_BUREAU_WEEK  AMT_REQ_CREDIT_BUREAU_MON  \\\n",
      "0                         0.0                        0.0   \n",
      "\n",
      "   AMT_REQ_CREDIT_BUREAU_QRT  AMT_REQ_CREDIT_BUREAU_YEAR  \n",
      "0                        0.0                         1.0  \n",
      "\n",
      "[1 rows x 122 columns]\n"
     ]
    }
   ],
   "source": [
    "print(app_train.head(1))"
   ]
  },
  {
   "cell_type": "code",
   "execution_count": 31,
   "metadata": {},
   "outputs": [
    {
     "name": "stdout",
     "output_type": "stream",
     "text": [
      "SK_ID_CURR                                           100007\n",
      "TARGET                                                    0\n",
      "NAME_CONTRACT_TYPE                               Cash loans\n",
      "CODE_GENDER                                               M\n",
      "FLAG_OWN_CAR                                              N\n",
      "FLAG_OWN_REALTY                                           Y\n",
      "CNT_CHILDREN                                              0\n",
      "AMT_INCOME_TOTAL                                     121500\n",
      "AMT_CREDIT                                           513000\n",
      "AMT_ANNUITY                                         21865.5\n",
      "AMT_GOODS_PRICE                                      513000\n",
      "NAME_TYPE_SUITE                               Unaccompanied\n",
      "NAME_INCOME_TYPE                                    Working\n",
      "NAME_EDUCATION_TYPE           Secondary / secondary special\n",
      "NAME_FAMILY_STATUS                     Single / not married\n",
      "NAME_HOUSING_TYPE                         House / apartment\n",
      "REGION_POPULATION_RELATIVE                         0.028663\n",
      "DAYS_BIRTH                                           -19932\n",
      "DAYS_EMPLOYED                                         -3038\n",
      "DAYS_REGISTRATION                                     -4311\n",
      "DAYS_ID_PUBLISH                                       -3458\n",
      "OWN_CAR_AGE                                             NaN\n",
      "FLAG_MOBIL                                                1\n",
      "FLAG_EMP_PHONE                                            1\n",
      "FLAG_WORK_PHONE                                           0\n",
      "FLAG_CONT_MOBILE                                          1\n",
      "FLAG_PHONE                                                0\n",
      "FLAG_EMAIL                                                0\n",
      "OCCUPATION_TYPE                                  Core staff\n",
      "CNT_FAM_MEMBERS                                           1\n",
      "                                          ...              \n",
      "DEF_30_CNT_SOCIAL_CIRCLE                                  0\n",
      "OBS_60_CNT_SOCIAL_CIRCLE                                  0\n",
      "DEF_60_CNT_SOCIAL_CIRCLE                                  0\n",
      "DAYS_LAST_PHONE_CHANGE                                -1106\n",
      "FLAG_DOCUMENT_2                                           0\n",
      "FLAG_DOCUMENT_3                                           0\n",
      "FLAG_DOCUMENT_4                                           0\n",
      "FLAG_DOCUMENT_5                                           0\n",
      "FLAG_DOCUMENT_6                                           0\n",
      "FLAG_DOCUMENT_7                                           0\n",
      "FLAG_DOCUMENT_8                                           1\n",
      "FLAG_DOCUMENT_9                                           0\n",
      "FLAG_DOCUMENT_10                                          0\n",
      "FLAG_DOCUMENT_11                                          0\n",
      "FLAG_DOCUMENT_12                                          0\n",
      "FLAG_DOCUMENT_13                                          0\n",
      "FLAG_DOCUMENT_14                                          0\n",
      "FLAG_DOCUMENT_15                                          0\n",
      "FLAG_DOCUMENT_16                                          0\n",
      "FLAG_DOCUMENT_17                                          0\n",
      "FLAG_DOCUMENT_18                                          0\n",
      "FLAG_DOCUMENT_19                                          0\n",
      "FLAG_DOCUMENT_20                                          0\n",
      "FLAG_DOCUMENT_21                                          0\n",
      "AMT_REQ_CREDIT_BUREAU_HOUR                                0\n",
      "AMT_REQ_CREDIT_BUREAU_DAY                                 0\n",
      "AMT_REQ_CREDIT_BUREAU_WEEK                                0\n",
      "AMT_REQ_CREDIT_BUREAU_MON                                 0\n",
      "AMT_REQ_CREDIT_BUREAU_QRT                                 0\n",
      "AMT_REQ_CREDIT_BUREAU_YEAR                                0\n",
      "Name: 4, Length: 122, dtype: object\n",
      "Cash loans\n"
     ]
    }
   ],
   "source": [
    "#print(app_train.iloc[4:6])\n",
    "print(app_train.iloc[4])\n",
    "print(app_train.iloc[4, 2])"
   ]
  },
  {
   "cell_type": "code",
   "execution_count": 29,
   "metadata": {},
   "outputs": [
    {
     "name": "stdout",
     "output_type": "stream",
     "text": [
      "SK_ID_CURR                                           100007\n",
      "TARGET                                                    0\n",
      "NAME_CONTRACT_TYPE                               Cash loans\n",
      "CODE_GENDER                                               M\n",
      "FLAG_OWN_CAR                                              N\n",
      "FLAG_OWN_REALTY                                           Y\n",
      "CNT_CHILDREN                                              0\n",
      "AMT_INCOME_TOTAL                                     121500\n",
      "AMT_CREDIT                                           513000\n",
      "AMT_ANNUITY                                         21865.5\n",
      "AMT_GOODS_PRICE                                      513000\n",
      "NAME_TYPE_SUITE                               Unaccompanied\n",
      "NAME_INCOME_TYPE                                    Working\n",
      "NAME_EDUCATION_TYPE           Secondary / secondary special\n",
      "NAME_FAMILY_STATUS                     Single / not married\n",
      "NAME_HOUSING_TYPE                         House / apartment\n",
      "REGION_POPULATION_RELATIVE                         0.028663\n",
      "DAYS_BIRTH                                           -19932\n",
      "DAYS_EMPLOYED                                         -3038\n",
      "DAYS_REGISTRATION                                     -4311\n",
      "DAYS_ID_PUBLISH                                       -3458\n",
      "OWN_CAR_AGE                                             NaN\n",
      "FLAG_MOBIL                                                1\n",
      "FLAG_EMP_PHONE                                            1\n",
      "FLAG_WORK_PHONE                                           0\n",
      "FLAG_CONT_MOBILE                                          1\n",
      "FLAG_PHONE                                                0\n",
      "FLAG_EMAIL                                                0\n",
      "OCCUPATION_TYPE                                  Core staff\n",
      "CNT_FAM_MEMBERS                                           1\n",
      "                                          ...              \n",
      "DEF_30_CNT_SOCIAL_CIRCLE                                  0\n",
      "OBS_60_CNT_SOCIAL_CIRCLE                                  0\n",
      "DEF_60_CNT_SOCIAL_CIRCLE                                  0\n",
      "DAYS_LAST_PHONE_CHANGE                                -1106\n",
      "FLAG_DOCUMENT_2                                           0\n",
      "FLAG_DOCUMENT_3                                           0\n",
      "FLAG_DOCUMENT_4                                           0\n",
      "FLAG_DOCUMENT_5                                           0\n",
      "FLAG_DOCUMENT_6                                           0\n",
      "FLAG_DOCUMENT_7                                           0\n",
      "FLAG_DOCUMENT_8                                           1\n",
      "FLAG_DOCUMENT_9                                           0\n",
      "FLAG_DOCUMENT_10                                          0\n",
      "FLAG_DOCUMENT_11                                          0\n",
      "FLAG_DOCUMENT_12                                          0\n",
      "FLAG_DOCUMENT_13                                          0\n",
      "FLAG_DOCUMENT_14                                          0\n",
      "FLAG_DOCUMENT_15                                          0\n",
      "FLAG_DOCUMENT_16                                          0\n",
      "FLAG_DOCUMENT_17                                          0\n",
      "FLAG_DOCUMENT_18                                          0\n",
      "FLAG_DOCUMENT_19                                          0\n",
      "FLAG_DOCUMENT_20                                          0\n",
      "FLAG_DOCUMENT_21                                          0\n",
      "AMT_REQ_CREDIT_BUREAU_HOUR                                0\n",
      "AMT_REQ_CREDIT_BUREAU_DAY                                 0\n",
      "AMT_REQ_CREDIT_BUREAU_WEEK                                0\n",
      "AMT_REQ_CREDIT_BUREAU_MON                                 0\n",
      "AMT_REQ_CREDIT_BUREAU_QRT                                 0\n",
      "AMT_REQ_CREDIT_BUREAU_YEAR                                0\n",
      "Name: 4, Length: 122, dtype: object\n",
      "Cash loans\n"
     ]
    }
   ],
   "source": [
    "print(app_train.loc[4])\n",
    "print(app_train.loc[4, 'NAME_CONTRACT_TYPE'])"
   ]
  },
  {
   "cell_type": "code",
   "execution_count": null,
   "metadata": {},
   "outputs": [],
   "source": []
  }
 ],
 "metadata": {
  "kernelspec": {
   "display_name": "Python 3",
   "language": "python",
   "name": "python3"
  },
  "language_info": {
   "codemirror_mode": {
    "name": "ipython",
    "version": 3
   },
   "file_extension": ".py",
   "mimetype": "text/x-python",
   "name": "python",
   "nbconvert_exporter": "python",
   "pygments_lexer": "ipython3",
   "version": "3.7.3"
  }
 },
 "nbformat": 4,
 "nbformat_minor": 2
}
