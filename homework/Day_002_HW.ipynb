{
 "cells": [
  {
   "cell_type": "markdown",
   "metadata": {},
   "source": [
    "作業問題：思考題_請找出一個你認為機器學習可以發光發熱的領域並闡述原因?"
   ]
  },
  {
   "cell_type": "markdown",
   "metadata": {},
   "source": [
    "人工智慧在非常多領域都能結合應用，而啟發我人工智慧之路的領域就是**影像**，而影像相關技術為何能迅速發展，其中要歸功於現今硬體處理速度與人工智慧之父提出的反向傳播，而最重要的是影像容易**向量化**來表達，在足夠的影像數據下，人工智慧能一個壓縮或膨脹**向量**。在監督式學習來說，假設我們要預測數字，輸入圖片大小為28*28，而輸出則是one-hot模式(1,0,....0)，這就是一個壓縮，而使用機率的想法能說輸出是每一個數字的機率，過程的訓練則是使用反向傳播(偏微分)。總結來說人工智慧在建立一個函數，輸入向量x產生出y的機率，如下。$$ f(y|x) $$"
   ]
  },
  {
   "cell_type": "code",
   "execution_count": null,
   "metadata": {},
   "outputs": [],
   "source": []
  }
 ],
 "metadata": {
  "kernelspec": {
   "display_name": "Python 3",
   "language": "python",
   "name": "python3"
  },
  "language_info": {
   "codemirror_mode": {
    "name": "ipython",
    "version": 3
   },
   "file_extension": ".py",
   "mimetype": "text/x-python",
   "name": "python",
   "nbconvert_exporter": "python",
   "pygments_lexer": "ipython3",
   "version": "3.7.3"
  }
 },
 "nbformat": 4,
 "nbformat_minor": 2
}
